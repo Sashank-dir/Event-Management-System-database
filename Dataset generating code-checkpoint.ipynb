{
 "cells": [
  {
   "cell_type": "code",
   "execution_count": null,
   "metadata": {},
   "outputs": [],
   "source": [
    "import csv\n",
    "from faker import Faker\n",
    "import random\n",
    "from datetime import timedelta\n",
    "\n",
    "# Set the number of records for the dataset\n",
    "dataset_size = 250000\n",
    "\n",
    "# Initialize Faker\n",
    "fake = Faker()\n",
    "\n",
    "# Create a list to store the generated data\n",
    "data = []\n",
    "\n",
    "# Generate the data\n",
    "for _ in range(dataset_size):\n",
    "    # Generate fake event data\n",
    "    event_name = fake.catch_phrase()\n",
    "    event_venue = fake.city()\n",
    "\n",
    "    # Generate fake attendee data\n",
    "    attendee_name = fake.name()\n",
    "    attendee_email = fake.email()\n",
    "    attendee_phone = fake.phone_number()\n",
    "\n",
    "    # Generate fake registration and event data\n",
    "    registration_date = fake.date_time_this_year()\n",
    "    event_date = registration_date + timedelta(days=random.randint(1, 90))\n",
    "\n",
    "    # Generate payment and ticket data\n",
    "    payment_status = random.choice([\"Completed\", \"Pending\", \"Cancelled\"])\n",
    "    seats_booked = random.randint(1, 10)\n",
    "    ticket_price = round(random.uniform(20, 200), 2)  # Ticket price between $20 and $200\n",
    "\n",
    "    # Add the data to the dataset list\n",
    "    data.append([event_name, event_venue, payment_status, seats_booked, ticket_price,\n",
    "                 attendee_name, attendee_email, attendee_phone,\n",
    "                 registration_date, event_date])\n",
    "\n",
    "# Define the filename\n",
    "filename = \"event_management_dataset.csv\"\n",
    "\n",
    "# Save the dataset as a CSV file\n",
    "with open(filename, 'w', newline='') as file:\n",
    "    writer = csv.writer(file)\n",
    "    writer.writerow(['Event Name', 'Venue', 'Payment Status', 'Seats Booked', 'Ticket Price',\n",
    "                     'Attendee Name', 'Email', 'Phone', 'Registration Date', 'Event Date'])  # Write header\n",
    "    writer.writerows(data)\n",
    "\n",
    "print(f\"Dataset of size {dataset_size} saved as {filename}.\")\n"
   ]
  }
 ],
 "metadata": {
  "kernelspec": {
   "display_name": "Python 3",
   "language": "python",
   "name": "python3"
  },
  "language_info": {
   "codemirror_mode": {
    "name": "ipython",
    "version": 3
   },
   "file_extension": ".py",
   "mimetype": "text/x-python",
   "name": "python",
   "nbconvert_exporter": "python",
   "pygments_lexer": "ipython3",
   "version": "3.8.5"
  }
 },
 "nbformat": 4,
 "nbformat_minor": 4
}
